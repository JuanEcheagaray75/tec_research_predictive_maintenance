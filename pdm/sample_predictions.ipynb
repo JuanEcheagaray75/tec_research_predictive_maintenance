{
 "cells": [
  {
   "cell_type": "markdown",
   "metadata": {},
   "source": [
    "# Model Predictions"
   ]
  },
  {
   "cell_type": "code",
   "execution_count": 1,
   "metadata": {},
   "outputs": [],
   "source": [
    "import xgboost as xgb\n",
    "import numpy as np\n",
    "import pandas as pd\n",
    "import matplotlib.pyplot as plt\n",
    "from sklearn.metrics import mean_squared_error\n",
    "from typing import Tuple\n",
    "import pickle\n",
    "import seaborn as sns\n",
    "from statsmodels.distributions.empirical_distribution import ECDF\n",
    "import scipy.stats as st\n",
    "from sklearn.model_selection import train_test_split\n",
    "from loss import PHMAP, phmap_loss"
   ]
  },
  {
   "cell_type": "markdown",
   "metadata": {},
   "source": [
    "## Pipeline Models"
   ]
  },
  {
   "cell_type": "code",
   "execution_count": 2,
   "metadata": {},
   "outputs": [],
   "source": [
    "with open('model/trained/xgb_pipe_estimator.pkl', 'rb') as f:\n",
    "    rul_estimator = pickle.load(f)\n",
    "\n",
    "with open('model/trained/xgb_pipe_lower.pkl', 'rb') as f:\n",
    "    lower_bound = pickle.load(f)\n",
    "\n",
    "with open('model/trained/xgb_pipe_upper.pkl', 'rb') as f:\n",
    "    upper_bound = pickle.load(f)\n"
   ]
  },
  {
   "cell_type": "markdown",
   "metadata": {},
   "source": [
    "## Data"
   ]
  },
  {
   "cell_type": "code",
   "execution_count": 3,
   "metadata": {},
   "outputs": [],
   "source": [
    "X = pd.read_csv('data/phmap_dataset.csv').drop(\n",
    "            labels=['unit_names', 'hs'],\n",
    "            axis=1)\n",
    "y = pd.read_csv('data/ruls.csv').values.reshape(1, -1)[0]\n",
    "\n",
    "X_train, X_test, y_train, y_test = train_test_split(X,\n",
    "                                                    y,\n",
    "                                                    test_size=0.2,\n",
    "                                                    random_state=42)"
   ]
  },
  {
   "cell_type": "markdown",
   "metadata": {},
   "source": [
    "## Model Residuals"
   ]
  },
  {
   "cell_type": "code",
   "execution_count": 4,
   "metadata": {},
   "outputs": [
    {
     "name": "stderr",
     "output_type": "stream",
     "text": [
      "/home/mona/college/pdm/.venv/lib/python3.8/site-packages/xgboost/core.py:160: UserWarning: [20:52:14] WARNING: /workspace/src/common/error_msg.cc:58: Falling back to prediction using DMatrix due to mismatched devices. This might lead to higher memory usage and slower performance. XGBoost is running on: cuda:0, while the input data is on: cpu.\n",
      "Potential solutions:\n",
      "- Use a data structure that matches the device ordinal in the booster.\n",
      "- Set the device for booster before call to inplace_predict.\n",
      "\n",
      "This warning will only be shown once.\n",
      "\n",
      "  warnings.warn(smsg, UserWarning)\n"
     ]
    }
   ],
   "source": [
    "residuals = y - rul_estimator.predict(X)"
   ]
  },
  {
   "cell_type": "code",
   "execution_count": 5,
   "metadata": {},
   "outputs": [
    {
     "data": {
      "image/png": "[encoded data removed]",
      "text/plain": [
       "<Figure size 600x500 with 1 Axes>"
      ]
     },
     "metadata": {},
     "output_type": "display_data"
    }
   ],
   "source": [
    "annotations = f\"\"\"$\\hat{{r}}$ = {np.mean(residuals):.3f}\n",
    "Kurt$[{{r}}]$ = {st.kurtosis(residuals):.3f}\n",
    "$\\hat{{F}}({{r}}, 0) = {ECDF(residuals)(0):.3f}$\"\"\"\n",
    "\n",
    "fig, ax = plt.subplots(figsize=(6, 5))\n",
    "ax.hist(residuals,\n",
    "         bins=30,)\n",
    "ax.set_title('Distribution of residuals for RUL estimator')\n",
    "ax.set_xlabel('Residual')\n",
    "ax.text(x=0.05,\n",
    "        y=0.7,\n",
    "        s=annotations,\n",
    "        transform=ax.transAxes,\n",
    "        bbox=dict(facecolor='white'))\n",
    "plt.savefig('img/optimized_xgb_residuals.png',\n",
    "            dpi=300,\n",
    "            bbox_inches='tight')\n",
    "plt.show()"
   ]
  },
  {
   "cell_type": "markdown",
   "metadata": {},
   "source": [
    "I propose using the RMSE of the model to signal a maintenance warning"
   ]
  },
  {
   "cell_type": "code",
   "execution_count": 6,
   "metadata": {},
   "outputs": [
    {
     "data": {
      "text/plain": [
       "9.83074206690494"
      ]
     },
     "execution_count": 6,
     "metadata": {},
     "output_type": "execute_result"
    }
   ],
   "source": [
    "thresh = mean_squared_error(y_test, rul_estimator.predict(X_test), squared=False)\n",
    "thresh"
   ]
  },
  {
   "cell_type": "code",
   "execution_count": 7,
   "metadata": {},
   "outputs": [],
   "source": [
    "X = pd.read_csv('data/phmap_dataset.csv')\n",
    "y = pd.read_csv('data/ruls.csv').values.reshape(1, -1)[0]\n",
    "units = X['unit_names'].unique()\n",
    "X['rul'] = y\n",
    "for unit in units:\n",
    "    data = X[X['unit_names'] == unit]\n",
    "    x = data.drop(['unit_names', 'hs', 'rul'], axis=1)\n",
    "    y_unit = data['rul']\n",
    "    rul_estimate = rul_estimator.predict(x)\n",
    "    lower_rul = lower_bound.predict(x)\n",
    "    upper_rul = upper_bound.predict(x)\n",
    "    t = np.arange(0, len(data))\n",
    "    plt.plot(t, y_unit, label='RUL')\n",
    "    plt.plot(t, rul_estimate, label='Estimate')\n",
    "    plt.plot(t, lower_rul, label='Lower Bound (0.1)', linestyle='--')\n",
    "    plt.plot(t, upper_rul, label='Upper Bound (0.9)', linestyle='--')\n",
    "    plt.axvline(np.argmax(rul_estimate < thresh),\n",
    "                label='Maintenance Warning',\n",
    "                linestyle='dotted')\n",
    "    plt.fill_between(t, lower_rul, upper_rul, alpha=0.1)\n",
    "    plt.xlabel('Cycles')\n",
    "    plt.ylabel('RUL')\n",
    "    plt.grid()\n",
    "    plt.suptitle(f'RUL Estimates and 90% PI for {unit}')\n",
    "    plt.title(f'PHMAP Loss: {phmap_loss(y_unit, rul_estimate):.4f}')\n",
    "    plt.legend()\n",
    "    plt.savefig(f'img/xgb/preds_{unit}.png',\n",
    "                dpi=300,\n",
    "                bbox_inches='tight')\n",
    "    plt.close()"
   ]
  }
 ],
 "metadata": {
  "kernelspec": {
   "display_name": "tf_pdm",
   "language": "python",
   "name": "python3"
  },
  "language_info": {
   "codemirror_mode": {
    "name": "ipython",
    "version": 3
   },
   "file_extension": ".py",
   "mimetype": "text/x-python",
   "name": "python",
   "nbconvert_exporter": "python",
   "pygments_lexer": "ipython3",
   "version": "3.8.10"
  },
  "orig_nbformat": 4
 },
 "nbformat": 4,
 "nbformat_minor": 2
}
